{
 "cells": [
  {
   "cell_type": "code",
   "execution_count": null,
   "id": "d33104b3",
   "metadata": {},
   "outputs": [],
   "source": [
    "hie"
   ]
  },
  {
   "cell_type": "code",
   "execution_count": null,
   "id": "08f0d19d",
   "metadata": {},
   "outputs": [],
   "source": []
  }
 ],
 "metadata": {
  "kernelspec": {
   "display_name": "venv",
   "language": "python",
   "name": "python3"
  },
  "language_info": {
   "name": "python",
   "version": "3.12.8"
  }
 },
 "nbformat": 4,
 "nbformat_minor": 5
}
