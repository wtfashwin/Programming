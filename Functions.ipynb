{
 "cells": [
  {
   "cell_type": "code",
   "execution_count": 4,
   "id": "9668f94a-8087-4a61-9253-9d7cb81ce82e",
   "metadata": {},
   "outputs": [],
   "source": [
    "#Functions is a block of code that performs a specific task, help in organizing resuing code and improving readability. "
   ]
  },
  {
   "cell_type": "code",
   "execution_count": 6,
   "id": "5ec20a72-33d1-42b7-8e38-50ac133c009e",
   "metadata": {},
   "outputs": [],
   "source": [
    "def funtion_name(para):\n",
    "    \"\"\"Docstring\"\"\"\n",
    "    #body\n",
    "    return expression"
   ]
  },
  {
   "cell_type": "code",
   "execution_count": null,
   "id": "0b1079a4-9bd0-40ad-adca-a8c45f6852e0",
   "metadata": {},
   "outputs": [],
   "source": [
    "num = 24\n",
    "\n",
    "if num %2 == 0:\n",
    "    print(\"Even\")\n",
    "else:\n",
    "    print(\"odd\")"
   ]
  },
  {
   "cell_type": "code",
   "execution_count": null,
   "id": "b4b5daba-8aa2-49c0-a152-1a0cef3b30d9",
   "metadata": {},
   "outputs": [],
   "source": [
    "def eveorodd(num):\n",
    "    \"\"\"finds even or odd\"\"\"\n",
    "    if num%2==0:\n",
    "        print(\"Even\")\n",
    "    else:\n",
    "        print(\"Odd\")\n",
    "\n",
    "eveorodd(23)\n",
    "    "
   ]
  },
  {
   "cell_type": "code",
   "execution_count": null,
   "id": "4a50eff4-d00a-4a3c-835b-022dc8d8011d",
   "metadata": {},
   "outputs": [],
   "source": [
    "## Function with Multiple parameters\n",
    "def add(a,b):\n",
    "    return a+b\n",
    "res = add(2,4)\n",
    "print(res)"
   ]
  },
  {
   "cell_type": "code",
   "execution_count": null,
   "id": "6f11cd7d-c2bd-4d57-95f0-426206f72c5b",
   "metadata": {},
   "outputs": [],
   "source": [
    "# Default Parameters\n",
    "\n",
    "def greet(name = \"Guest\"):\n",
    "    print(f\"Hello {name} Welcome\")\n",
    "\n",
    "greet()"
   ]
  },
  {
   "cell_type": "code",
   "execution_count": 40,
   "id": "b0e9ef15-8f66-4fe3-9497-d0c7ee1ee3ec",
   "metadata": {},
   "outputs": [],
   "source": [
    "#Variable length args \n",
    "#Positional and\n",
    "\n",
    "def print_num(*args):\n",
    "    for nums in args:\n",
    "        print(nums)\n"
   ]
  },
  {
   "cell_type": "code",
   "execution_count": null,
   "id": "c056fa80-d96b-4dd1-970a-564a1e5e6e75",
   "metadata": {},
   "outputs": [],
   "source": [
    "print_num(1,2,4,5,6,3,2,1,4,5,\"args\")"
   ]
  },
  {
   "cell_type": "code",
   "execution_count": 56,
   "id": "82c7aace-643c-41f0-8ae5-c65d962a5fa1",
   "metadata": {},
   "outputs": [],
   "source": [
    "#Keyword Args\n",
    "#in the form of key value pairs\n",
    "\n",
    "def print_details(**kwargs):\n",
    "    for key, value in kwargs.items():\n",
    "        print(f\"{key}:{value}\")\n"
   ]
  },
  {
   "cell_type": "code",
   "execution_count": null,
   "id": "22c5638a-0942-4c54-ae9e-e759027709eb",
   "metadata": {},
   "outputs": [],
   "source": [
    "print_details(name=\"Ashwin\",age=\"21\",country=\"India\")"
   ]
  },
  {
   "cell_type": "code",
   "execution_count": 62,
   "id": "aa0306c5-39ff-447a-a174-952e524a4a22",
   "metadata": {},
   "outputs": [],
   "source": [
    "def print_def(*args, **kwargs):\n",
    "    for val in args:\n",
    "        print(f\"Positional Args: {val}\")\n",
    "    \n",
    "    for key, value in kwargs.items():\n",
    "        print(f\"{key}:{value}\")\n"
   ]
  },
  {
   "cell_type": "code",
   "execution_count": null,
   "id": "424e12fa-d330-4599-89ca-17a072aca9d5",
   "metadata": {},
   "outputs": [],
   "source": [
    "print_def(2,4,5,6,3,2,1,4,5,name=\"Ashwin\",age=\"21\",country=\"India\")"
   ]
  },
  {
   "cell_type": "code",
   "execution_count": null,
   "id": "05983af1-dd17-4b0b-a9b9-13c539b527d0",
   "metadata": {},
   "outputs": [],
   "source": [
    "#Return Statement\n",
    "\n",
    "def mul(a,c):\n",
    "    return a * c\n",
    "\n",
    "mul(2,3)"
   ]
  },
  {
   "cell_type": "code",
   "execution_count": null,
   "id": "e4732c9c-4f5b-44b4-b8cd-eab33691711f",
   "metadata": {},
   "outputs": [],
   "source": [
    "def mul(a,b):\n",
    "    return a*b, a\n",
    "\n",
    "mul(2,4)"
   ]
  },
  {
   "cell_type": "markdown",
   "id": "73ab3b9d-c02a-4f61-90d2-cc8cb2e17a59",
   "metadata": {},
   "source": [
    "Temperature Conversion"
   ]
  },
  {
   "cell_type": "code",
   "execution_count": null,
   "id": "d839ffc1-7d01-49b6-b7b9-554d0fc32733",
   "metadata": {},
   "outputs": [],
   "source": [
    "def convert_temp(temp, unit):\n",
    "    \"\"\"Function converts cel to far\"\"\"\n",
    "    if unit == 'C':\n",
    "        return temp *9/5 + 32 #Celsius\n",
    "    elif unit ==\"F\":\n",
    "        return (temp - 32) *5/9 #Far\n",
    "    else:\n",
    "        return None\n",
    "\n",
    "print(convert_temp(25, 'C'))\n",
    "print(convert_temp(78, 'F'))\n"
   ]
  },
  {
   "cell_type": "code",
   "execution_count": null,
   "id": "850e0416-9e94-44e6-96c9-8c865f1aea86",
   "metadata": {},
   "outputs": [],
   "source": []
  },
  {
   "cell_type": "code",
   "execution_count": null,
   "id": "dc80db22",
   "metadata": {},
   "outputs": [],
   "source": []
  }
 ],
 "metadata": {
  "kernelspec": {
   "display_name": "venv",
   "language": "python",
   "name": "python3"
  },
  "language_info": {
   "codemirror_mode": {
    "name": "ipython",
    "version": 3
   },
   "file_extension": ".py",
   "mimetype": "text/x-python",
   "name": "python",
   "nbconvert_exporter": "python",
   "pygments_lexer": "ipython3",
   "version": "3.12.8"
  }
 },
 "nbformat": 4,
 "nbformat_minor": 5
}
